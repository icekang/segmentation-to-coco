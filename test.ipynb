{
 "cells": [
  {
   "cell_type": "code",
   "execution_count": 11,
   "metadata": {},
   "outputs": [],
   "source": [
    "import numpy as np\n",
    "from PIL import Image\n",
    "from pycocotools import mask as mask_utils"
   ]
  },
  {
   "cell_type": "code",
   "execution_count": 12,
   "metadata": {},
   "outputs": [],
   "source": [
    "mask = np.load('../solar-panel-segmentation/data/processed/solar/mask/Fresno_0.npy')"
   ]
  },
  {
   "cell_type": "code",
   "execution_count": 15,
   "metadata": {},
   "outputs": [
    {
     "data": {
      "text/plain": [
       "(224, 224)"
      ]
     },
     "execution_count": 15,
     "metadata": {},
     "output_type": "execute_result"
    }
   ],
   "source": [
    "mask[np.axis]"
   ]
  },
  {
   "cell_type": "code",
   "execution_count": 33,
   "metadata": {},
   "outputs": [],
   "source": [
    "enc = mask_utils.encode(np.asfortranarray(mask.astype(np.uint8)))"
   ]
  },
  {
   "cell_type": "code",
   "execution_count": 44,
   "metadata": {},
   "outputs": [
    {
     "data": {
      "text/plain": [
       "True"
      ]
     },
     "execution_count": 44,
     "metadata": {},
     "output_type": "execute_result"
    }
   ],
   "source": [
    "bytes(list(enc['counts'])) == enc['counts']"
   ]
  },
  {
   "cell_type": "code",
   "execution_count": 42,
   "metadata": {},
   "outputs": [
    {
     "ename": "TypeError",
     "evalue": "Expected bytes, got list",
     "output_type": "error",
     "traceback": [
      "\u001b[1;31m---------------------------------------------------------------------------\u001b[0m",
      "\u001b[1;31mTypeError\u001b[0m                                 Traceback (most recent call last)",
      "\u001b[1;32mc:\\Users\\Namka\\Documents\\EPFL\\Internship\\AXA\\SolarPanelDetection\\segmentation-to-coco\\test.ipynb Cell 7\u001b[0m line \u001b[0;36m3\n\u001b[0;32m      <a href='vscode-notebook-cell:/c%3A/Users/Namka/Documents/EPFL/Internship/AXA/SolarPanelDetection/segmentation-to-coco/test.ipynb#X14sZmlsZQ%3D%3D?line=0'>1</a>\u001b[0m integer_value \u001b[39m=\u001b[39m \u001b[39mint\u001b[39m\u001b[39m.\u001b[39mfrom_bytes(enc[\u001b[39m'\u001b[39m\u001b[39mcounts\u001b[39m\u001b[39m'\u001b[39m])\n\u001b[0;32m      <a href='vscode-notebook-cell:/c%3A/Users/Namka/Documents/EPFL/Internship/AXA/SolarPanelDetection/segmentation-to-coco/test.ipynb#X14sZmlsZQ%3D%3D?line=1'>2</a>\u001b[0m int_list \u001b[39m=\u001b[39m [\u001b[39mint\u001b[39m(digit) \u001b[39mfor\u001b[39;00m digit \u001b[39min\u001b[39;00m \u001b[39mstr\u001b[39m(integer_value)]\n\u001b[1;32m----> <a href='vscode-notebook-cell:/c%3A/Users/Namka/Documents/EPFL/Internship/AXA/SolarPanelDetection/segmentation-to-coco/test.ipynb#X14sZmlsZQ%3D%3D?line=2'>3</a>\u001b[0m mask_utils\u001b[39m.\u001b[39;49mdecode({\u001b[39m'\u001b[39;49m\u001b[39msize\u001b[39;49m\u001b[39m'\u001b[39;49m: [mask\u001b[39m.\u001b[39;49mshape[\u001b[39m0\u001b[39;49m], mask\u001b[39m.\u001b[39;49mshape[\u001b[39m1\u001b[39;49m]], \u001b[39m'\u001b[39;49m\u001b[39mcounts\u001b[39;49m\u001b[39m'\u001b[39;49m: int_list})\n",
      "File \u001b[1;32mc:\\Users\\Namka\\.conda\\envs\\WALDO_env\\Lib\\site-packages\\pycocotools\\mask.py:91\u001b[0m, in \u001b[0;36mdecode\u001b[1;34m(rleObjs)\u001b[0m\n\u001b[0;32m     89\u001b[0m     \u001b[39mreturn\u001b[39;00m _mask\u001b[39m.\u001b[39mdecode(rleObjs)\n\u001b[0;32m     90\u001b[0m \u001b[39melse\u001b[39;00m:\n\u001b[1;32m---> 91\u001b[0m     \u001b[39mreturn\u001b[39;00m _mask\u001b[39m.\u001b[39;49mdecode([rleObjs])[:,:,\u001b[39m0\u001b[39m]\n",
      "File \u001b[1;32mpycocotools\\\\_mask.pyx:145\u001b[0m, in \u001b[0;36mpycocotools._mask.decode\u001b[1;34m()\u001b[0m\n",
      "File \u001b[1;32mpycocotools\\\\_mask.pyx:127\u001b[0m, in \u001b[0;36mpycocotools._mask._frString\u001b[1;34m()\u001b[0m\n",
      "\u001b[1;31mTypeError\u001b[0m: Expected bytes, got list"
     ]
    }
   ],
   "source": [
    "integer_value = int.from_bytes(enc['counts'])\n",
    "int_list = [int(digit) for digit in str(integer_value)]\n",
    "mask_utils.decode({'size': [mask.shape[0], mask.shape[1]], 'counts': int_list})"
   ]
  },
  {
   "cell_type": "code",
   "execution_count": 30,
   "metadata": {},
   "outputs": [
    {
     "ename": "ValueError",
     "evalue": "invalid literal for int() with base 10: b'ZQ`02Q51gL1W31fL3W30fL3X3NiL1U32jLNV32kLNT32lLNU32jLNV32kLNU31kLOU32kLNT32lLNU32jLNV32kLNU31kLOU32kLNT32lLNU32jLNV32kLNU31kLOU32kLNT32lLNU32jLNV32kLNU31kLOU32kLNT32lLNU32jLNV32kLNU31kLOU32kLNT32lLNU",
     "output_type": "error",
     "traceback": [
      "\u001b[1;31m---------------------------------------------------------------------------\u001b[0m",
      "\u001b[1;31mValueError\u001b[0m                                Traceback (most recent call last)",
      "\u001b[1;32mc:\\Users\\Namka\\Documents\\EPFL\\Internship\\AXA\\SolarPanelDetection\\segmentation-to-coco\\test.ipynb Cell 5\u001b[0m line \u001b[0;36m1\n\u001b[1;32m----> <a href='vscode-notebook-cell:/c%3A/Users/Namka/Documents/EPFL/Internship/AXA/SolarPanelDetection/segmentation-to-coco/test.ipynb#X12sZmlsZQ%3D%3D?line=0'>1</a>\u001b[0m mask_utils\u001b[39m.\u001b[39;49mfrPyObjects(enc, mask\u001b[39m.\u001b[39;49mshape[\u001b[39m0\u001b[39;49m], mask\u001b[39m.\u001b[39;49mshape[\u001b[39m1\u001b[39;49m])\n",
      "File \u001b[1;32mpycocotools\\\\_mask.pyx:307\u001b[0m, in \u001b[0;36mpycocotools._mask.frPyObjects\u001b[1;34m()\u001b[0m\n",
      "File \u001b[1;32mpycocotools\\\\_mask.pyx:280\u001b[0m, in \u001b[0;36mpycocotools._mask.frUncompressedRLE\u001b[1;34m()\u001b[0m\n",
      "\u001b[1;31mValueError\u001b[0m: invalid literal for int() with base 10: b'ZQ`02Q51gL1W31fL3W30fL3X3NiL1U32jLNV32kLNT32lLNU32jLNV32kLNU31kLOU32kLNT32lLNU32jLNV32kLNU31kLOU32kLNT32lLNU32jLNV32kLNU31kLOU32kLNT32lLNU32jLNV32kLNU31kLOU32kLNT32lLNU32jLNV32kLNU31kLOU32kLNT32lLNU"
     ]
    }
   ],
   "source": [
    "mask_utils.frPyObjects(enc, mask.shape[0], mask.shape[1])"
   ]
  },
  {
   "cell_type": "code",
   "execution_count": 24,
   "metadata": {},
   "outputs": [
    {
     "data": {
      "text/plain": [
       "4312"
      ]
     },
     "execution_count": 24,
     "metadata": {},
     "output_type": "execute_result"
    }
   ],
   "source": [
    "mask_utils.area(enc)"
   ]
  },
  {
   "cell_type": "code",
   "execution_count": 27,
   "metadata": {},
   "outputs": [
    {
     "data": {
      "text/plain": [
       "[73.0, 0.0, 151.0, 134.0]"
      ]
     },
     "execution_count": 27,
     "metadata": {},
     "output_type": "execute_result"
    }
   ],
   "source": [
    "mask_utils.toBbox(enc).tolist()"
   ]
  },
  {
   "cell_type": "code",
   "execution_count": 19,
   "metadata": {},
   "outputs": [],
   "source": [
    "dec = mask_utils.decode(enc)"
   ]
  },
  {
   "cell_type": "code",
   "execution_count": 21,
   "metadata": {},
   "outputs": [
    {
     "data": {
      "text/plain": [
       "(224, 224)"
      ]
     },
     "execution_count": 21,
     "metadata": {},
     "output_type": "execute_result"
    }
   ],
   "source": [
    "dec.shape"
   ]
  },
  {
   "cell_type": "code",
   "execution_count": 32,
   "metadata": {},
   "outputs": [
    {
     "ename": "ValueError",
     "evalue": "invalid literal for int() with base 10: b'172JO'",
     "output_type": "error",
     "traceback": [
      "\u001b[1;31m---------------------------------------------------------------------------\u001b[0m",
      "\u001b[1;31mValueError\u001b[0m                                Traceback (most recent call last)",
      "\u001b[1;32mc:\\Users\\Namka\\Documents\\EPFL\\Internship\\AXA\\SolarPanelDetection\\segmentation-to-coco\\test.ipynb Cell 10\u001b[0m line \u001b[0;36m1\n\u001b[0;32m     <a href='vscode-notebook-cell:/c%3A/Users/Namka/Documents/EPFL/Internship/AXA/SolarPanelDetection/segmentation-to-coco/test.ipynb#W2sZmlsZQ%3D%3D?line=10'>11</a>\u001b[0m enc \u001b[39m=\u001b[39m mask_utils\u001b[39m.\u001b[39mencode(np\u001b[39m.\u001b[39masfortranarray(binary_mask))\n\u001b[0;32m     <a href='vscode-notebook-cell:/c%3A/Users/Namka/Documents/EPFL/Internship/AXA/SolarPanelDetection/segmentation-to-coco/test.ipynb#W2sZmlsZQ%3D%3D?line=12'>13</a>\u001b[0m \u001b[39m# Convert the RLE-encoded mask to a JSON-serializable format (list of lists)\u001b[39;00m\n\u001b[1;32m---> <a href='vscode-notebook-cell:/c%3A/Users/Namka/Documents/EPFL/Internship/AXA/SolarPanelDetection/segmentation-to-coco/test.ipynb#W2sZmlsZQ%3D%3D?line=13'>14</a>\u001b[0m segmentation_list \u001b[39m=\u001b[39m mask_utils\u001b[39m.\u001b[39;49mfrPyObjects(enc, binary_mask\u001b[39m.\u001b[39;49mshape[\u001b[39m0\u001b[39;49m], binary_mask\u001b[39m.\u001b[39;49mshape[\u001b[39m1\u001b[39;49m])\n\u001b[0;32m     <a href='vscode-notebook-cell:/c%3A/Users/Namka/Documents/EPFL/Internship/AXA/SolarPanelDetection/segmentation-to-coco/test.ipynb#W2sZmlsZQ%3D%3D?line=15'>16</a>\u001b[0m \u001b[39m# Now, `segmentation_list` contains the JSON-serializable RLE-encoded mask\u001b[39;00m\n",
      "File \u001b[1;32mpycocotools\\\\_mask.pyx:307\u001b[0m, in \u001b[0;36mpycocotools._mask.frPyObjects\u001b[1;34m()\u001b[0m\n",
      "File \u001b[1;32mpycocotools\\\\_mask.pyx:280\u001b[0m, in \u001b[0;36mpycocotools._mask.frUncompressedRLE\u001b[1;34m()\u001b[0m\n",
      "\u001b[1;31mValueError\u001b[0m: invalid literal for int() with base 10: b'172JO'"
     ]
    }
   ],
   "source": [
    "import pycocotools.mask as mask_utils\n",
    "import numpy as np\n",
    "\n",
    "# Assuming you have an RLE mask as a binary mask (numpy array)\n",
    "# Example RLE mask (replace with your own mask)\n",
    "binary_mask = np.array([[0, 1, 1, 0],\n",
    "                        [1, 1, 1, 1],\n",
    "                        [1, 1, 0, 0]], dtype=np.uint8)\n",
    "\n",
    "# Encode the binary mask into RLE format\n",
    "enc = mask_utils.encode(np.asfortranarray(binary_mask))\n",
    "\n",
    "# Convert the RLE-encoded mask to a JSON-serializable format (list of lists)\n",
    "segmentation_list = mask_utils.frPyObjects(enc, binary_mask.shape[0], binary_mask.shape[1])\n",
    "\n",
    "# Now, `segmentation_list` contains the JSON-serializable RLE-encoded mask\n"
   ]
  }
 ],
 "metadata": {
  "kernelspec": {
   "display_name": "WALDO_env",
   "language": "python",
   "name": "python3"
  },
  "language_info": {
   "codemirror_mode": {
    "name": "ipython",
    "version": 3
   },
   "file_extension": ".py",
   "mimetype": "text/x-python",
   "name": "python",
   "nbconvert_exporter": "python",
   "pygments_lexer": "ipython3",
   "version": "3.11.4"
  },
  "orig_nbformat": 4
 },
 "nbformat": 4,
 "nbformat_minor": 2
}
